{
  "nbformat": 4,
  "nbformat_minor": 0,
  "metadata": {
    "colab": {
      "name": "Juliet Wanjohi - Week 1 - PART 2 - Sales Regression Modeling - QUESTIONS.ipynb",
      "provenance": [],
      "collapsed_sections": [],
      "include_colab_link": true
    },
    "kernelspec": {
      "display_name": "Python 3",
      "name": "python3"
    },
    "language_info": {
      "name": "python"
    }
  },
  "cells": [
    {
      "cell_type": "markdown",
      "metadata": {
        "id": "view-in-github",
        "colab_type": "text"
      },
      "source": [
        "<a href=\"https://colab.research.google.com/github/jaywanjohi/co-rise/blob/main/Juliet_Wanjohi_Week_1_PART_2_Sales_Regression_Modeling_QUESTIONS.ipynb\" target=\"_parent\"><img src=\"https://colab.research.google.com/assets/colab-badge.svg\" alt=\"Open In Colab\"/></a>"
      ]
    },
    {
      "cell_type": "markdown",
      "metadata": {
        "id": "bFuV20LKc0h3"
      },
      "source": [
        "> DUPLICATE THIS COLAB TO START WORKING ON IT. Using File > Save a copy to drive.\n",
        "\n",
        "# Week 1: Introduction to Regression\n",
        "\n",
        "### Applying supervised machine learning in a practical setting\n",
        "In this project, we will build supervised learning models to help make decisions in a business setting. We will focus on machine learning algorithms and development practices, so in this first project our dataset will be more of a \"black box.\" \n",
        "\n",
        "\n",
        "Our project will walk through problem formulation, developing models, and evaluating model performance in the context of a business goal. Along the way, we will introduce the basics of formalizing supervised learning as a task, regression loss functions, and simple models for regression. You will build and test models using `scikit-learn` and supporting tools.\n",
        "\n",
        "### Instructions\n",
        "\n",
        "1. Before working on this task, you should complete the 1-D Regression notebook to get familiar with some basic concepts.\n",
        "2. We provide starter code and data to give your work a common starting point and scaffolding. You must keep function signatures unchanged to support any later usage and to ensure correct grading of your project.\n",
        "3. Ensure you read through the document and starting code before beginning your work. Understand the overall structure and goals of the project to make your implementation efficient. \n"
      ]
    },
    {
      "cell_type": "markdown",
      "metadata": {
        "id": "2TWogdWh1MWp"
      },
      "source": [
        "# Dependencies"
      ]
    },
    {
      "cell_type": "markdown",
      "metadata": {
        "id": "SGpYPUn2uVBK"
      },
      "source": [
        "Import all the necessary libraries we need throughout the project."
      ]
    },
    {
      "cell_type": "code",
      "metadata": {
        "id": "NSDbwEoL8-0r"
      },
      "source": [
        "import pandas as pd\n",
        "import numpy as np\n",
        "from typing import Tuple\n",
        "from sklearn.model_selection import train_test_split\n",
        "from sklearn import linear_model, svm\n",
        "from sklearn.tree import DecisionTreeRegressor\n",
        "from sklearn.neighbors import KNeighborsRegressor\n",
        "from sklearn.preprocessing import PolynomialFeatures\n",
        "from sklearn.metrics import mean_squared_error, r2_score, mean_absolute_error, mean_absolute_percentage_error\n",
        "from numpy.core.numeric import Inf\n",
        "import matplotlib.pyplot as plt\n",
        "plt.style.use('ggplot')\n",
        "plt.rcParams['figure.figsize'] = [10, 5]"
      ],
      "execution_count": 2,
      "outputs": []
    },
    {
      "cell_type": "markdown",
      "metadata": {
        "id": "riBtB6GDur-W"
      },
      "source": [
        "Set the random seed for NumPy so that we produce consistent results that can be easily discussed."
      ]
    },
    {
      "cell_type": "code",
      "metadata": {
        "id": "N7pOF_7XXQ6M"
      },
      "source": [
        "# Fix the random seed so that we get consistent results\n",
        "np.random.seed(0)"
      ],
      "execution_count": 3,
      "outputs": []
    },
    {
      "cell_type": "markdown",
      "metadata": {
        "id": "IKLaamGv74gO"
      },
      "source": [
        "# Regression modeling applied: Per-customer revenue prediction"
      ]
    },
    {
      "cell_type": "markdown",
      "metadata": {
        "id": "n6_YhkBSe9Gj"
      },
      "source": [
        "**Scenario**: You've just been hired as a machine learning engineer at Snailsforce, the leader in direct mail marketing software. Your company's customers are businesses with a large range of yearly _customer spend_ which is driven by usage of the software. The revenue generated from each customer is closely related to usage and spend, so we will predict per-customer revenue as $y$.\n",
        "\n",
        "Our high level goal is to increase overall revenue, and identify customers who might move up to our top tier services. The team has asked you to build a regression model to predict per-customer revenue. We believe that a model can identify statistical patterns in our historical data and these revenue estimates will provide actionable information for where to focus our customer support and sales efforts. \n",
        "\n",
        "You've been provided a dataset of historical account data including attributes of the customer, and their usage of the product. The goal is to use this historical data to estimate the total spend of a client for their next license year. \n",
        "\n",
        "Formalizing this task a bit, we will use customer usage attributes $x$ to predict _spend_, a normalized dollar amount for revenue, $y$. \n",
        "\n",
        "There is inherent randomness and unknown factors in the way we've framed this prediction task -- any range of unknown events could impact customers' usage. Thus, we will set realistic expectations for how to use this model. So long as the model can accurately predict future spend.\n",
        "\n",
        "NOTE: We provide dataset values but give no information about the meaning of each customer attribute. In this project we will focus on ML techniques rather than using our intuitions about a task/dataset. In later projects we will use both, and work on challenging tasks where you can also inject domain knowledge to improve performance. "
      ]
    },
    {
      "cell_type": "markdown",
      "metadata": {
        "id": "DX3VPazF8AGN"
      },
      "source": [
        "## Data loading and basic checks"
      ]
    },
    {
      "cell_type": "markdown",
      "source": [
        "The dataset is stored on GDrive. This code downloads the dataset to your colab instance, then loads several matrices in a .npz file"
      ],
      "metadata": {
        "id": "5A7ren4ZnHV-"
      }
    },
    {
      "cell_type": "code",
      "source": [
        "# download dataset from public GDrive\n",
        "!gdown --id 1o_duTLOfVaDHBWgMcq-ziywUJKWd-2WL"
      ],
      "metadata": {
        "id": "W9huLARxwbxc",
        "colab": {
          "base_uri": "https://localhost:8080/"
        },
        "outputId": "002a303a-1d6f-4899-9b3b-eb439ca03a88"
      },
      "execution_count": 4,
      "outputs": [
        {
          "output_type": "stream",
          "name": "stdout",
          "text": [
            "Downloading...\n",
            "From: https://drive.google.com/uc?id=1o_duTLOfVaDHBWgMcq-ziywUJKWd-2WL\n",
            "To: /content/proj_1_sales_dataset.npz\n",
            "\r  0% 0.00/135k [00:00<?, ?B/s]\r100% 135k/135k [00:00<00:00, 62.1MB/s]\n"
          ]
        }
      ]
    },
    {
      "cell_type": "code",
      "source": [
        "with np.load('proj_1_sales_dataset.npz') as npdata:\n",
        "  X_train = npdata['X_train']\n",
        "  y_train = npdata['y_train']\n",
        "  X_dev = npdata['X_dev']\n",
        "  y_dev = npdata['y_dev']"
      ],
      "metadata": {
        "id": "rW8KeVDz5-74"
      },
      "execution_count": 5,
      "outputs": []
    },
    {
      "cell_type": "code",
      "source": [
        "print(npdata.files)"
      ],
      "metadata": {
        "id": "AbUGe60v6kvO",
        "colab": {
          "base_uri": "https://localhost:8080/"
        },
        "outputId": "18aed9be-bca3-4906-f66c-563acfa0c9bd"
      },
      "execution_count": 6,
      "outputs": [
        {
          "output_type": "stream",
          "name": "stdout",
          "text": [
            "['X_train', 'X_dev', 'y_train', 'y_dev']\n"
          ]
        }
      ]
    },
    {
      "cell_type": "markdown",
      "metadata": {
        "id": "xvb7kppv-2bA"
      },
      "source": [
        "### Basic dataset information\n",
        "\n",
        "Let's quickly check some statistics and basic facts about the dataset which are important for supervised learning. First, let's check the examples and features in our dataset. When working with data for ML tasks, we typically desire each variable to be 0 mean and standard deviation 1. For this project, we have already prepared the dataset to approximately match these values."
      ]
    },
    {
      "cell_type": "code",
      "metadata": {
        "id": "F_tSOcTRBN0i",
        "colab": {
          "base_uri": "https://localhost:8080/",
          "height": 300
        },
        "outputId": "0c039c6d-4ba6-46a2-cfd7-0963b843a970"
      },
      "source": [
        "# Check range, min/max, mean, std, etc. for all input feature columns\n",
        "pd.DataFrame(data=X_train).describe()"
      ],
      "execution_count": 7,
      "outputs": [
        {
          "output_type": "execute_result",
          "data": {
            "text/plain": [
              "                0            1            2            3            4   \\\n",
              "count  1000.000000  1000.000000  1000.000000  1000.000000  1000.000000   \n",
              "mean     -0.033553     0.037349    -0.071254     0.016236    -0.060130   \n",
              "std       0.954392     1.030878     0.998940     1.030643     0.992510   \n",
              "min      -0.733186    -0.841822    -1.603473    -0.545265    -1.491855   \n",
              "25%      -0.400898    -0.483615    -0.908631    -0.271902    -0.928456   \n",
              "50%      -0.349878    -0.483615    -0.397200    -0.256833    -0.252491   \n",
              "75%      -0.143746     0.318672     1.028326    -0.213755     0.568941   \n",
              "max       9.323170     3.728990     2.496404     4.062429     2.798285   \n",
              "\n",
              "                5            6            7            8            9   \\\n",
              "count  1000.000000  1000.000000  1000.000000  1000.000000  1000.000000   \n",
              "mean      0.093037    -0.067582     0.068104    -0.055085    -0.053653   \n",
              "std       0.995166     1.012888     1.022526     0.969820     0.985496   \n",
              "min      -3.817250    -2.369042    -1.353140    -1.167139    -1.568349   \n",
              "25%      -0.481834    -0.962185    -0.781176    -0.637914    -0.773947   \n",
              "50%      -0.020076     0.257688    -0.208498    -0.511142    -0.465100   \n",
              "75%       0.593891     0.845540     0.778044    -0.148702     0.223805   \n",
              "max       3.467186     1.290705     3.531645     1.916498     1.965037   \n",
              "\n",
              "                10           11           12  \n",
              "count  1000.000000  1000.000000  1000.000000  \n",
              "mean     -0.061481     0.017692    -0.071632  \n",
              "std       1.013739     0.980342     0.988070  \n",
              "min      -2.771561    -3.943066    -1.620686  \n",
              "25%      -0.762626     0.192617    -0.864435  \n",
              "50%       0.114232     0.366588    -0.289395  \n",
              "75%       0.784476     0.448077     0.507380  \n",
              "max       1.689603     0.672469     3.482019  "
            ],
            "text/html": [
              "\n",
              "  <div id=\"df-ba3732e1-1a34-40ba-affd-fb2a97f1ded0\">\n",
              "    <div class=\"colab-df-container\">\n",
              "      <div>\n",
              "<style scoped>\n",
              "    .dataframe tbody tr th:only-of-type {\n",
              "        vertical-align: middle;\n",
              "    }\n",
              "\n",
              "    .dataframe tbody tr th {\n",
              "        vertical-align: top;\n",
              "    }\n",
              "\n",
              "    .dataframe thead th {\n",
              "        text-align: right;\n",
              "    }\n",
              "</style>\n",
              "<table border=\"1\" class=\"dataframe\">\n",
              "  <thead>\n",
              "    <tr style=\"text-align: right;\">\n",
              "      <th></th>\n",
              "      <th>0</th>\n",
              "      <th>1</th>\n",
              "      <th>2</th>\n",
              "      <th>3</th>\n",
              "      <th>4</th>\n",
              "      <th>5</th>\n",
              "      <th>6</th>\n",
              "      <th>7</th>\n",
              "      <th>8</th>\n",
              "      <th>9</th>\n",
              "      <th>10</th>\n",
              "      <th>11</th>\n",
              "      <th>12</th>\n",
              "    </tr>\n",
              "  </thead>\n",
              "  <tbody>\n",
              "    <tr>\n",
              "      <th>count</th>\n",
              "      <td>1000.000000</td>\n",
              "      <td>1000.000000</td>\n",
              "      <td>1000.000000</td>\n",
              "      <td>1000.000000</td>\n",
              "      <td>1000.000000</td>\n",
              "      <td>1000.000000</td>\n",
              "      <td>1000.000000</td>\n",
              "      <td>1000.000000</td>\n",
              "      <td>1000.000000</td>\n",
              "      <td>1000.000000</td>\n",
              "      <td>1000.000000</td>\n",
              "      <td>1000.000000</td>\n",
              "      <td>1000.000000</td>\n",
              "    </tr>\n",
              "    <tr>\n",
              "      <th>mean</th>\n",
              "      <td>-0.033553</td>\n",
              "      <td>0.037349</td>\n",
              "      <td>-0.071254</td>\n",
              "      <td>0.016236</td>\n",
              "      <td>-0.060130</td>\n",
              "      <td>0.093037</td>\n",
              "      <td>-0.067582</td>\n",
              "      <td>0.068104</td>\n",
              "      <td>-0.055085</td>\n",
              "      <td>-0.053653</td>\n",
              "      <td>-0.061481</td>\n",
              "      <td>0.017692</td>\n",
              "      <td>-0.071632</td>\n",
              "    </tr>\n",
              "    <tr>\n",
              "      <th>std</th>\n",
              "      <td>0.954392</td>\n",
              "      <td>1.030878</td>\n",
              "      <td>0.998940</td>\n",
              "      <td>1.030643</td>\n",
              "      <td>0.992510</td>\n",
              "      <td>0.995166</td>\n",
              "      <td>1.012888</td>\n",
              "      <td>1.022526</td>\n",
              "      <td>0.969820</td>\n",
              "      <td>0.985496</td>\n",
              "      <td>1.013739</td>\n",
              "      <td>0.980342</td>\n",
              "      <td>0.988070</td>\n",
              "    </tr>\n",
              "    <tr>\n",
              "      <th>min</th>\n",
              "      <td>-0.733186</td>\n",
              "      <td>-0.841822</td>\n",
              "      <td>-1.603473</td>\n",
              "      <td>-0.545265</td>\n",
              "      <td>-1.491855</td>\n",
              "      <td>-3.817250</td>\n",
              "      <td>-2.369042</td>\n",
              "      <td>-1.353140</td>\n",
              "      <td>-1.167139</td>\n",
              "      <td>-1.568349</td>\n",
              "      <td>-2.771561</td>\n",
              "      <td>-3.943066</td>\n",
              "      <td>-1.620686</td>\n",
              "    </tr>\n",
              "    <tr>\n",
              "      <th>25%</th>\n",
              "      <td>-0.400898</td>\n",
              "      <td>-0.483615</td>\n",
              "      <td>-0.908631</td>\n",
              "      <td>-0.271902</td>\n",
              "      <td>-0.928456</td>\n",
              "      <td>-0.481834</td>\n",
              "      <td>-0.962185</td>\n",
              "      <td>-0.781176</td>\n",
              "      <td>-0.637914</td>\n",
              "      <td>-0.773947</td>\n",
              "      <td>-0.762626</td>\n",
              "      <td>0.192617</td>\n",
              "      <td>-0.864435</td>\n",
              "    </tr>\n",
              "    <tr>\n",
              "      <th>50%</th>\n",
              "      <td>-0.349878</td>\n",
              "      <td>-0.483615</td>\n",
              "      <td>-0.397200</td>\n",
              "      <td>-0.256833</td>\n",
              "      <td>-0.252491</td>\n",
              "      <td>-0.020076</td>\n",
              "      <td>0.257688</td>\n",
              "      <td>-0.208498</td>\n",
              "      <td>-0.511142</td>\n",
              "      <td>-0.465100</td>\n",
              "      <td>0.114232</td>\n",
              "      <td>0.366588</td>\n",
              "      <td>-0.289395</td>\n",
              "    </tr>\n",
              "    <tr>\n",
              "      <th>75%</th>\n",
              "      <td>-0.143746</td>\n",
              "      <td>0.318672</td>\n",
              "      <td>1.028326</td>\n",
              "      <td>-0.213755</td>\n",
              "      <td>0.568941</td>\n",
              "      <td>0.593891</td>\n",
              "      <td>0.845540</td>\n",
              "      <td>0.778044</td>\n",
              "      <td>-0.148702</td>\n",
              "      <td>0.223805</td>\n",
              "      <td>0.784476</td>\n",
              "      <td>0.448077</td>\n",
              "      <td>0.507380</td>\n",
              "    </tr>\n",
              "    <tr>\n",
              "      <th>max</th>\n",
              "      <td>9.323170</td>\n",
              "      <td>3.728990</td>\n",
              "      <td>2.496404</td>\n",
              "      <td>4.062429</td>\n",
              "      <td>2.798285</td>\n",
              "      <td>3.467186</td>\n",
              "      <td>1.290705</td>\n",
              "      <td>3.531645</td>\n",
              "      <td>1.916498</td>\n",
              "      <td>1.965037</td>\n",
              "      <td>1.689603</td>\n",
              "      <td>0.672469</td>\n",
              "      <td>3.482019</td>\n",
              "    </tr>\n",
              "  </tbody>\n",
              "</table>\n",
              "</div>\n",
              "      <button class=\"colab-df-convert\" onclick=\"convertToInteractive('df-ba3732e1-1a34-40ba-affd-fb2a97f1ded0')\"\n",
              "              title=\"Convert this dataframe to an interactive table.\"\n",
              "              style=\"display:none;\">\n",
              "        \n",
              "  <svg xmlns=\"http://www.w3.org/2000/svg\" height=\"24px\"viewBox=\"0 0 24 24\"\n",
              "       width=\"24px\">\n",
              "    <path d=\"M0 0h24v24H0V0z\" fill=\"none\"/>\n",
              "    <path d=\"M18.56 5.44l.94 2.06.94-2.06 2.06-.94-2.06-.94-.94-2.06-.94 2.06-2.06.94zm-11 1L8.5 8.5l.94-2.06 2.06-.94-2.06-.94L8.5 2.5l-.94 2.06-2.06.94zm10 10l.94 2.06.94-2.06 2.06-.94-2.06-.94-.94-2.06-.94 2.06-2.06.94z\"/><path d=\"M17.41 7.96l-1.37-1.37c-.4-.4-.92-.59-1.43-.59-.52 0-1.04.2-1.43.59L10.3 9.45l-7.72 7.72c-.78.78-.78 2.05 0 2.83L4 21.41c.39.39.9.59 1.41.59.51 0 1.02-.2 1.41-.59l7.78-7.78 2.81-2.81c.8-.78.8-2.07 0-2.86zM5.41 20L4 18.59l7.72-7.72 1.47 1.35L5.41 20z\"/>\n",
              "  </svg>\n",
              "      </button>\n",
              "      \n",
              "  <style>\n",
              "    .colab-df-container {\n",
              "      display:flex;\n",
              "      flex-wrap:wrap;\n",
              "      gap: 12px;\n",
              "    }\n",
              "\n",
              "    .colab-df-convert {\n",
              "      background-color: #E8F0FE;\n",
              "      border: none;\n",
              "      border-radius: 50%;\n",
              "      cursor: pointer;\n",
              "      display: none;\n",
              "      fill: #1967D2;\n",
              "      height: 32px;\n",
              "      padding: 0 0 0 0;\n",
              "      width: 32px;\n",
              "    }\n",
              "\n",
              "    .colab-df-convert:hover {\n",
              "      background-color: #E2EBFA;\n",
              "      box-shadow: 0px 1px 2px rgba(60, 64, 67, 0.3), 0px 1px 3px 1px rgba(60, 64, 67, 0.15);\n",
              "      fill: #174EA6;\n",
              "    }\n",
              "\n",
              "    [theme=dark] .colab-df-convert {\n",
              "      background-color: #3B4455;\n",
              "      fill: #D2E3FC;\n",
              "    }\n",
              "\n",
              "    [theme=dark] .colab-df-convert:hover {\n",
              "      background-color: #434B5C;\n",
              "      box-shadow: 0px 1px 3px 1px rgba(0, 0, 0, 0.15);\n",
              "      filter: drop-shadow(0px 1px 2px rgba(0, 0, 0, 0.3));\n",
              "      fill: #FFFFFF;\n",
              "    }\n",
              "  </style>\n",
              "\n",
              "      <script>\n",
              "        const buttonEl =\n",
              "          document.querySelector('#df-ba3732e1-1a34-40ba-affd-fb2a97f1ded0 button.colab-df-convert');\n",
              "        buttonEl.style.display =\n",
              "          google.colab.kernel.accessAllowed ? 'block' : 'none';\n",
              "\n",
              "        async function convertToInteractive(key) {\n",
              "          const element = document.querySelector('#df-ba3732e1-1a34-40ba-affd-fb2a97f1ded0');\n",
              "          const dataTable =\n",
              "            await google.colab.kernel.invokeFunction('convertToInteractive',\n",
              "                                                     [key], {});\n",
              "          if (!dataTable) return;\n",
              "\n",
              "          const docLinkHtml = 'Like what you see? Visit the ' +\n",
              "            '<a target=\"_blank\" href=https://colab.research.google.com/notebooks/data_table.ipynb>data table notebook</a>'\n",
              "            + ' to learn more about interactive tables.';\n",
              "          element.innerHTML = '';\n",
              "          dataTable['output_type'] = 'display_data';\n",
              "          await google.colab.output.renderOutput(dataTable, element);\n",
              "          const docLink = document.createElement('div');\n",
              "          docLink.innerHTML = docLinkHtml;\n",
              "          element.appendChild(docLink);\n",
              "        }\n",
              "      </script>\n",
              "    </div>\n",
              "  </div>\n",
              "  "
            ]
          },
          "metadata": {},
          "execution_count": 7
        }
      ]
    },
    {
      "cell_type": "markdown",
      "metadata": {
        "id": "llmmw4dWWY3y"
      },
      "source": [
        "### Checking our output variable"
      ]
    },
    {
      "cell_type": "markdown",
      "source": [
        "For regression, we typically map a real-valued input vector to a real-valued scalar. This means the $(x, y)$ input/label pairs are a single value for y and a feature vector for x. Many of the techniques we discuss here extend to _multi-variate_ regression where $y$ is a vector. \n",
        "\n",
        "When working with a dataset, we typically want to understand the rough *distribution* of output variable $y$. First, let's plot the values of the output variable for our data. Again, we've already standardized the revenue values to have a mean of 0. "
      ],
      "metadata": {
        "id": "e2bArgfLGvuk"
      }
    },
    {
      "cell_type": "code",
      "metadata": {
        "id": "b8fMYKYZYXNH",
        "colab": {
          "base_uri": "https://localhost:8080/",
          "height": 459
        },
        "outputId": "c6ee495a-2d4d-446d-e398-d1341375e04b"
      },
      "source": [
        "# scatterplot of y values with jitter\n",
        "plt.boxplot(y_train)"
      ],
      "execution_count": 8,
      "outputs": [
        {
          "output_type": "execute_result",
          "data": {
            "text/plain": [
              "{'boxes': [<matplotlib.lines.Line2D at 0x7f98684417d0>],\n",
              " 'caps': [<matplotlib.lines.Line2D at 0x7f986844cad0>,\n",
              "  <matplotlib.lines.Line2D at 0x7f9868453050>],\n",
              " 'fliers': [<matplotlib.lines.Line2D at 0x7f9868453b10>],\n",
              " 'means': [],\n",
              " 'medians': [<matplotlib.lines.Line2D at 0x7f98684535d0>],\n",
              " 'whiskers': [<matplotlib.lines.Line2D at 0x7f9868441f50>,\n",
              "  <matplotlib.lines.Line2D at 0x7f986844c5d0>]}"
            ]
          },
          "metadata": {},
          "execution_count": 8
        },
        {
          "output_type": "display_data",
          "data": {
            "text/plain": [
              "<Figure size 720x360 with 1 Axes>"
            ],
            "image/png": "[encoded data removed]"
          },
          "metadata": {}
        }
      ]
    },
    {
      "cell_type": "markdown",
      "metadata": {
        "id": "f-YThqSE6d-T"
      },
      "source": [
        "## Iterative model development process: Regression"
      ]
    },
    {
      "cell_type": "markdown",
      "metadata": {
        "id": "EZZGq2tt8Mtq"
      },
      "source": [
        "We have now loaded the dataset and performed some basic data checks. This data will provide the inputs for our ML experiments. Following our iterative development process, we will first establish starting characteristics for our model before trying to improve it. This approach ensures that we are clear about what we are measuring before spending time building and improving models. Here are our next steps towards building a quality model for this revenue prediction task:\n",
        "\n",
        "Some setup steps:\n",
        "1. Evaluation metric selection.\n",
        "2. Split data into training / development sets. \n",
        "3. Establish code/procedure to evaluate model predictions.\n",
        "4. Build and evaluate simple baselines. \n",
        "\n",
        "Iterative hypothesis-driven modeling improvements:\n",
        "1. Build and evaluate a first regression model on the data.\n",
        "2. Diagnose next steps for how to improve model.\n",
        "3. Propose hypothesis for how to improve model and iterate!\n",
        "\n",
        "Let's go!"
      ]
    },
    {
      "cell_type": "markdown",
      "metadata": {
        "id": "UIxkii6L8M38"
      },
      "source": [
        "### Evaluation metric selection"
      ]
    },
    {
      "cell_type": "markdown",
      "metadata": {
        "id": "AbUX1I4BggkU"
      },
      "source": [
        "Our task is regression, and we are predicting account values in dollars. When working with regression, we typically default to mean squared error (MSE) as a guiding metric because it works well with many regression models. However, it's useful to consider multiple loss functions so that we can choose an option that optimizes the problem we need to solve.\n",
        "\n",
        "Our goal is to predict customer revenue. Because MSE is sensitive to large values, MSE risks putting too much weight on outlier errors when comparing models. Let's introduce additional metrics to give a different view on performance with less sensitivity to outliers\n",
        "\n",
        "Mean absolute error (MAE) = \n",
        "$\\frac{1}{n} \\sum_{i=0}^n |y^{(i)}-\\hat{y}^{(i)}|$\n",
        "\n",
        "MAE is the average of the absolute values of errors. MAE is often the best single diagnostic for comparing regression model performance because it is easier to interpret and less sensitive to outliers compared to MSE.\n",
        "\n",
        "Mean percentage error (MPE) = \n",
        "$\\frac{1}{n} \\sum_{i=0}^n \\frac{(y^{(i)}-\\hat{y}^{(i)})}{y^{(i)}} $\n",
        "\n",
        "MPE gives us a percentage error which is not affected by larger/smaller values of $y$, only the relative correctness of the prediction $\\hat{y}$. Another useful property of MPE is that errors have a positive or negative sign depending on whether the model under-estimates $y$ (positive error) or over-estimates (negative error). This means that MPE will give us an aggregate view of whether a model tends to predict too much or too little.\n",
        "\n",
        "For now, we are assuming that predicting revenue enables us to make decisions. These simple regression metrics are closely tied to evaluating how well our regression model predicts these values. Once we have a high quality regression model we will revisit how we use the model in the context of our business needs.\n",
        "\n",
        "For quick intuition about MSE, MAE, MPE, and some additional regression metrics, see https://www.dataquest.io/blog/understanding-regression-error-metrics/\n",
        "\n"
      ]
    },
    {
      "cell_type": "markdown",
      "metadata": {
        "id": "m94HSCh_WY_6"
      },
      "source": [
        "### Split data into training / development sets"
      ]
    },
    {
      "cell_type": "markdown",
      "metadata": {
        "id": "EjSWXQ2C6WG7"
      },
      "source": [
        "Now, we reserve part of the data as a development set to keep fixed during our work. To make comparison of results easy, we have already provided a training/development split in the data you loaded.\n",
        "\n",
        "We assume that our dataset examples are _independent and identically distributed ([i.i.d.](https://en.wikipedia.org/wiki/Independent_and_identically_distributed_random_variables))_ Basically, this means we assume that each example is an independent dice roll from the same die. This assumption means we can randomly select a development set from our full data, and consider it a representative sample. \n",
        "\n",
        "Beware of the i.i.d. assumption when working in machine learning. Data distributions in the real world can _shift_ from unseen events the data does not measure (e.g. shipping problems during COVID). Distribution shift means the indentically distributed assumption breaks, and our model evaluations might not be a good proxy for real-world performance. Revenue prediction models used during COVID pandemic would have experienced such shift in the incoming data compared to historical training data, likely resulting in model inaccuracy. \n",
        "\n",
        "Depending on the domain, it might be necessary to split data by time, or by person to ensure development set instances are not overly correlated with training instances. In our revenue prediction setting, we will ultimately test our model by making predictions on future account behavior and observing the results over time."
      ]
    },
    {
      "cell_type": "markdown",
      "metadata": {
        "id": "0d2iAPS9txHB"
      },
      "source": [
        "### Establish code/procedure to evaluate model predictions\n"
      ]
    },
    {
      "cell_type": "markdown",
      "metadata": {
        "id": "IuLYmi3f8m-Z"
      },
      "source": [
        "To ensure we measure and compare models in a consistent way, we will create shared code that we use to evaluate all models. Creating and validating this code with a simple baseline before building models gives us a controlled way to test and debug our metrics code before introducing the additional uncertainty of model results."
      ]
    },
    {
      "cell_type": "markdown",
      "metadata": {
        "id": "V40ZWFkO8n_F"
      },
      "source": [
        "#### **Task: Implement an evaluation function**"
      ]
    },
    {
      "cell_type": "markdown",
      "metadata": {
        "id": "Tuq7LXknaBls"
      },
      "source": [
        "Define a function to compute and return MSE, MAE, and MPE using the provided function signature. You may use `sklearn.metrics` functions to compute error terms."
      ]
    },
    {
      "cell_type": "code",
      "metadata": {
        "id": "DrIXf9Kf7mBT"
      },
      "source": [
        "def compute_eval(actual: np.ndarray, pred: np.ndarray ) -> Tuple[float, float, float]:\n",
        "  \"\"\"Computes evaluation metrics on given predicted/actual values\n",
        "  Args:\n",
        "    actual: 1-D array of actual values\n",
        "    pred: 1-D array of predicted values\n",
        "\n",
        "  Returns:\n",
        "    Mean squared error (float),\n",
        "    Mean absolute error (float),\n",
        "    Mean percentage error (float)\n",
        "  \n",
        "  \"\"\"\n",
        "  \n",
        "  #############################\n",
        "  #### YOUR CODE GOES HERE ####\n",
        "  mse_val = mean_squared_error(actual, pred)\n",
        "  mae_val = mean_absolute_error(actual, pred)\n",
        "  mpe_val = mean_absolute_percentage_error(actual, pred)\n",
        "\n",
        "  return (mse_val, mae_val, mpe_val)\n",
        "  \n",
        "  #############################   \n",
        "\n"
      ],
      "execution_count": 9,
      "outputs": []
    },
    {
      "cell_type": "markdown",
      "metadata": {
        "id": "lw9urD4CZaz1"
      },
      "source": [
        "Now let's quickly check our evaluation function using some basic inputs. Think of this as a small software _[unit test](https://en.wikipedia.org/wiki/Unit_testing)_."
      ]
    },
    {
      "cell_type": "code",
      "metadata": {
        "id": "4LaqTtsFZvYq",
        "colab": {
          "base_uri": "https://localhost:8080/"
        },
        "outputId": "5797484e-9fa3-4393-ff67-9dd0e22c23ca"
      },
      "source": [
        "n_samples_test = 100\n",
        "print(\"Expect some error (MSE 2.25 MAE 1.5 MPE 1.0)\")\n",
        "print(\"Computed error: MSE: %.2f  MAE: %.2f  MPE: %.2f \" \n",
        "      % compute_eval(1.5 * np.ones(n_samples_test), np.zeros(n_samples_test)))\n",
        "print(\"Expect 0 error\")\n",
        "print(\"Computed error: MSE: %.2f  MAE: %.2f  MPE: %.2f \" \n",
        "      % compute_eval(np.ones(n_samples_test), np.ones(n_samples_test)))"
      ],
      "execution_count": 10,
      "outputs": [
        {
          "output_type": "stream",
          "name": "stdout",
          "text": [
            "Expect some error (MSE 2.25 MAE 1.5 MPE 1.0)\n",
            "Computed error: MSE: 2.25  MAE: 1.50  MPE: 1.00 \n",
            "Expect 0 error\n",
            "Computed error: MSE: 0.00  MAE: 0.00  MPE: 0.00 \n"
          ]
        }
      ]
    },
    {
      "cell_type": "markdown",
      "metadata": {
        "id": "Jx4_y0d70m7w"
      },
      "source": [
        "### Build and evaluate simple baselines\n"
      ]
    },
    {
      "cell_type": "markdown",
      "metadata": {
        "id": "QHaFiCoQ5va9"
      },
      "source": [
        "With our metrics function validated, let's establish some simple baselines on our actual dataset. These baselines are useful for establishing a lower bound on performance -- a model capturing useful patterns in the data should outperform predicting the average output value for all examples. If models are unable to outperform these baselines, we would expect bugs in our code or issues in the dataset preventing useful learning."
      ]
    },
    {
      "cell_type": "markdown",
      "metadata": {
        "id": "jSmUANpx54Aj"
      },
      "source": [
        "#### **Task: Predict the average value** "
      ]
    },
    {
      "cell_type": "markdown",
      "metadata": {
        "id": "DnoDO85l5y5r"
      },
      "source": [
        "Compute the mean (average) output ($y$) value on the training set. Use this value as a prediction for each test example. Report results using your evaluation function."
      ]
    },
    {
      "cell_type": "code",
      "metadata": {
        "id": "sn9KMT2wrY5a",
        "colab": {
          "base_uri": "https://localhost:8080/"
        },
        "outputId": "a92b60fe-b69e-4752-ca9d-c22739706fc8"
      },
      "source": [
        "#############################\n",
        "#### YOUR CODE GOES HERE ####\n",
        "\n",
        "avg_val = np.mean(y_train)\n",
        "pred = np.full((200,), avg_val)\n",
        "print(\"Computed error: MSE: %.2f  MAE: %.2f  MPE: %.2f \" \n",
        "      % compute_eval(y_dev, pred))\n",
        "############################# "
      ],
      "execution_count": 11,
      "outputs": [
        {
          "output_type": "stream",
          "name": "stdout",
          "text": [
            "Computed error: MSE: 1.16  MAE: 0.77  MPE: 3.57 \n"
          ]
        }
      ]
    },
    {
      "cell_type": "markdown",
      "source": [
        "## Hypothesis-driven model development"
      ],
      "metadata": {
        "id": "aezRiAGLJBvP"
      }
    },
    {
      "cell_type": "markdown",
      "source": [
        "Machine learning system development has some inherent uncertainties. To better navigate the many options, we will focus on keeping a driving _hypothesis_ to justify what actions we take to improve the ML system. Additionally, we will often need different diagnostics or debugging tricks to gain information about what to try next.\n",
        "\n",
        "As a first step, let's establish a baseline using a simple, robust technique -- linear regression!"
      ],
      "metadata": {
        "id": "PFtx68DAJFvL"
      }
    },
    {
      "cell_type": "markdown",
      "metadata": {
        "id": "rPc4kkJfvYbx"
      },
      "source": [
        "### Build and evaluate a first regression model on the data\n"
      ]
    },
    {
      "cell_type": "markdown",
      "metadata": {
        "id": "Tq7Ri2rU6Cyk"
      },
      "source": [
        "With baselines and evaluation established, it's time to begin building models. Typically we start with a simpler, easier to understand model. Based on performance of this initial model we will make decisions about whether to try more complex models on this dataset. Linear regression is a reliable first choice as it is a well-stuidied model, relatively easy to interpret, and has many extensions we can use to improve performance in different situations. "
      ]
    },
    {
      "cell_type": "markdown",
      "metadata": {
        "id": "3X4TUzhY1_9d"
      },
      "source": [
        "#### **Task: Build and evaluate a linear regression model.**"
      ]
    },
    {
      "cell_type": "markdown",
      "metadata": {
        "id": "xwLawtKj2FKW"
      },
      "source": [
        "Fit a `LinearRegression` model on the training set. Report evaluation results on both the training and development sets by calling your `compute_eval` function."
      ]
    },
    {
      "cell_type": "code",
      "metadata": {
        "id": "xbbMQhHGg0if",
        "colab": {
          "base_uri": "https://localhost:8080/"
        },
        "outputId": "f0fb62bf-39d4-4123-ec52-4cc6b24925e6"
      },
      "source": [
        "## initialize empty model\n",
        "regr_lin = linear_model.LinearRegression()\n",
        "\n",
        "#############################\n",
        "\n",
        "# Train the regression model  \n",
        "#### YOUR CODE GOES HERE ####\n",
        "regr_lin.fit(X_train, y_train)\n",
        "pred_y_train = regr_lin.predict(X_train)\n",
        "\n",
        "regr_lin.fit(X_dev, y_dev)\n",
        "pred_y_dev = regr_lin.predict(X_dev)\n",
        "# Report both the training and development set eval\n",
        "print(\"Computed error for training set: MSE: %.2f  MAE: %.2f  MPE: %.2f \" \n",
        "      % compute_eval(y_train, pred_y_train))\n",
        "\n",
        "print(\"Computed error for dev set: MSE: %.2f  MAE: %.2f  MPE: %.2f \" \n",
        "      % compute_eval(y_dev, pred_y_dev))\n",
        "############################# "
      ],
      "execution_count": 12,
      "outputs": [
        {
          "output_type": "stream",
          "name": "stdout",
          "text": [
            "Computed error for training set: MSE: 0.25  MAE: 0.36  MPE: 2.01 \n",
            "Computed error for dev set: MSE: 0.19  MAE: 0.33  MPE: 3.27 \n"
          ]
        }
      ]
    },
    {
      "cell_type": "markdown",
      "metadata": {
        "id": "9LYnvItcgyAu"
      },
      "source": [
        "### Use diagnostics to create a hypothesis for how to improve (and iterate!)"
      ]
    },
    {
      "cell_type": "markdown",
      "metadata": {
        "id": "6WXmb_Pb5Xdo"
      },
      "source": [
        "So far we've performed an initial model building process to obtain baseline results in a sensible way. This process is fairly straightforward, but after fitting an initial model, we have many possible paths for what we might try next.\n",
        "\n",
        "Let's consider some diagnostic questions to determine the most promising next action to try:\n",
        "1. Is this model \"good enough\"? Does current dev set performance meet our goal for this system?\n",
        "2. Is the model improving compared with simple baselines on both the training and dev sets?\n",
        "3. Is training set performance at/above goal performance for this system? Is training set performance saturated near zero error?\n",
        "4. How do training set and dev set results compare with each other? "
      ]
    },
    {
      "cell_type": "markdown",
      "metadata": {
        "id": "Dibqxq9t5A_n"
      },
      "source": [
        "Think about your response to each question above. Next we will use these diagnostics to decide a next action. Here are reasonable responses to the questions above:   \n",
        "1. _No. Our teams estimate a model needs dev set performance MSE < 0.2 to meaningfully guide actions._\n",
        "1. _Yes. The model clearly outperforms our simple baselines, indicating the model learned some statistical patterns on the training set which were useful in making correct predictions on the dev set_\n",
        "1. _Training set performance is far from zero error, and does model does not appear to be fitting training set perfectly._ \n",
        "1. _Training set performance very close to dev set performance, and not meeting overall performance goals._\n"
      ]
    },
    {
      "cell_type": "markdown",
      "metadata": {
        "id": "67_q4L4h7lCl"
      },
      "source": [
        "For supervised learning problems large or small, there are a few key concepts we use to interpret our diagnostics:\n",
        "\n",
        "* **Model bias** is the assumptions or representational choices in our model. A high bias model (stronger assumptions in the model) makes consistent predictions. However, high bias assumptions might cause dev set errors or miss useful patterns in the training set.\n",
        "\n",
        "* **Model variance** is the ability of the model to fit small fluctuations in training data. High variance models accurately capture patterns in the training set, but might find spurious correlations. Models can make errors on new data when predictions are influenced by noise or spurious correlations in the training set.\n",
        "\n",
        "* **Dataset irreducible error** focuses on issues in the training and test datasets which impose a limit on how accurate the predictions any model can be. Sources of this error might be noise in input/output variables, unobserved information (missing input variables), or even data shift over time.\n",
        "\n",
        "We will explore these concepts in more depth later in the course. For now, let's revisit our diagnostic question responses in the context of these concepts."
      ]
    },
    {
      "cell_type": "markdown",
      "metadata": {
        "id": "ybFQg810cF8P"
      },
      "source": [
        "**Diagnosis**\n",
        "\n",
        "Based on our question responses, we might suspect the model is _high bias_ and _low variance_. We conclude this because the model has significant training set error and dev set errors are closely matched. We also use the term _under-fitting_ to describe a model which performs poorly on the dev set and does not fit the training data as well as we hope.\n",
        "\n",
        "Finally, we have no reason to suspect dataset irreducible error issues yet. An inability to fit the training set might also stem from dataset noise or errors, but we believe the data is sensible and well prepared, so we can focus on improving the model for now."
      ]
    },
    {
      "cell_type": "markdown",
      "metadata": {
        "id": "lx3YKQ9Pjz8d"
      },
      "source": [
        "### Propose hypothesis for how to improve performance"
      ]
    },
    {
      "cell_type": "markdown",
      "metadata": {
        "id": "7lhmxdAUh5WT"
      },
      "source": [
        "With our _high bias, low variance, under-fitting_ diagnosis, we can form a hypothesis about how to improve performance. When our model is high bias relative to the task, typically we want to find ways to build a _more expressive model_. In the case of linear regression, the linear assumption of the model might be too simple to fit the training data and capture useful patterns for this problem.\n",
        "\n",
        "We hypothesize a more expressive model will better fit the training set, and this improved performance will generalize to the dev set. So we want to try building higher variance models.\n",
        "\n",
        "Let's test this hypothesis by doing a next iteration of our modeling development process with more expressive, nonlinear models. "
      ]
    },
    {
      "cell_type": "markdown",
      "metadata": {
        "id": "xMnKHwrriszv"
      },
      "source": [
        "## Iterating on model improvements: Nonlinear models"
      ]
    },
    {
      "cell_type": "markdown",
      "metadata": {
        "id": "uV03OYtVwjtN"
      },
      "source": [
        "Let's work on the \"inner loop\" of iterative model improvement. We have clear baselines, metrics, and our goal is to find a nonlinear model which improves upon current performance. \n",
        "\n",
        "For rapid model improvement, we value the ability to try many modeling ideas quickly. Let's establish a baseline model, and then quickly try out many extensions."
      ]
    },
    {
      "cell_type": "markdown",
      "metadata": {
        "id": "SZQDOYvUw8C0"
      },
      "source": [
        "### Iterative model improvement"
      ]
    },
    {
      "cell_type": "markdown",
      "metadata": {
        "id": "iv_LuNKLi2tZ"
      },
      "source": [
        "As in our simple regression dataset experiments, we can try `KNeighborsRegressor` as a nonlinear model with more _variance_ than our linear model.\n",
        "\n",
        "\n"
      ]
    },
    {
      "cell_type": "markdown",
      "metadata": {
        "id": "DQjI8plv2VZl"
      },
      "source": [
        "#### **Task: Build a K nearest neighbors model.**"
      ]
    },
    {
      "cell_type": "markdown",
      "metadata": {
        "id": "YWy-6HJU2V-G"
      },
      "source": [
        "Let's try a new nonlinear modeling approach with `KNeighborsRegressor`. Nearest neighbors can be used for both classification and regression. The basic idea is to keep your training set as a lookup table, and making new predictions by checking the $k$-nearest training points to compute a prediction. Here the choice of how many neighbors to use ($k$) is a _hyperparameter_ of our model. We use \"hyper\" because such model options are one level up from the standard model parameters we find from training data using `.fit()`.\n",
        "\n",
        "Fit a `KNeighborsRegressor` model and report evaluation results on the training and development sets using `compute_eval()`. Adjust model hyperparameter `n_neighbors` ($k$) to find the best dev set performance you can. \n",
        "\n",
        "**Extension**: If you're already familiar with the basics of using a nearest neighbors model, try exploring more hyperparameters to improve performance. Refer to [scikit documentation](https://scikit-learn.org/stable/modules/generated/sklearn.neighbors.KNeighborsRegressor.html) to see options like the distance metric, and use course readings to get a deeper mathematical understanding of how these hyperparameters affect the model. "
      ]
    },
    {
      "cell_type": "code",
      "metadata": {
        "id": "kiqsR4sl3Ij-",
        "colab": {
          "base_uri": "https://localhost:8080/"
        },
        "outputId": "0dd39e68-8a5b-4c37-8e58-889fec04152e"
      },
      "source": [
        "## initialize empty model\n",
        "regr_kn = KNeighborsRegressor(n_neighbors=2)\n",
        "# you may initialize a new model to change settings\n",
        "\n",
        "#############################\n",
        "#### YOUR CODE GOES HERE ####\n",
        "  \n",
        "# Train the regressor model\n",
        "regr_kn.fit(X_train, y_train)\n",
        "pred_y_train = regr_kn.predict(X_train)\n",
        "\n",
        "regr_kn.fit(X_dev, y_dev)\n",
        "pred_y_dev = regr_kn.predict(X_dev)\n",
        "# Report the training and test set eval\n",
        "\n",
        "\n",
        "############################# \n",
        "\n",
        "# Report both the training and development set eval\n",
        "print(\"Computed error for training set: MSE: %.2f  MAE: %.2f  MPE: %.2f \" \n",
        "      % compute_eval(y_train, pred_y_train))\n",
        "\n",
        "print(\"Computed error for dev set: MSE: %.2f  MAE: %.2f  MPE: %.2f \" \n",
        "      % compute_eval(y_dev, pred_y_dev))"
      ],
      "execution_count": 13,
      "outputs": [
        {
          "output_type": "stream",
          "name": "stdout",
          "text": [
            "Computed error for training set: MSE: 0.01  MAE: 0.06  MPE: 0.38 \n",
            "Computed error for dev set: MSE: 0.01  MAE: 0.07  MPE: 2.48 \n"
          ]
        }
      ]
    },
    {
      "cell_type": "markdown",
      "metadata": {
        "id": "NqRwcgeC96jf"
      },
      "source": [
        "To find good settings for your nearest neighbors model, you likely ran multiple iterations of fitting the model and evaluating results. Now, let's _search_ the space of possible models in a more principled way. We often frame the problem of ML model development as searching for the best model out of infinitely many possibilities. \n",
        "\n",
        "It's okay if your nearest neighbors model is worse than the linear baseline -- this can happen when the assumptions of a particular model are not a good match for a dataset or task. Below we will introduce some additional nonlinear models you can try. "
      ]
    },
    {
      "cell_type": "markdown",
      "metadata": {
        "id": "RtJZy6s0-yZX"
      },
      "source": [
        "#### **Task: Model selection helper function**"
      ]
    },
    {
      "cell_type": "markdown",
      "metadata": {
        "id": "q_0C6Uyw-8Ax"
      },
      "source": [
        "Using the function signature provided, implement a function which takes a list of models along with training and test data. Fit each model and then evaluate them on both training and dev sets. Your function should return a list of training and dev metric tuples corresponding to the model list input. This helper function allows us to quickly evaluate a set of candidate models as we search for the best model."
      ]
    },
    {
      "cell_type": "code",
      "metadata": {
        "id": "frOWBdb3_r54"
      },
      "source": [
        "def search_models_helper(model_list: list, X_tr: np.ndarray, y_tr: np.ndarray, \n",
        "                        X_dev: np.ndarray, y_dev: np.ndarray) -> Tuple[list, list, int]:\n",
        "  \"\"\"Evaluate each model in model_list\n",
        "  Args:\n",
        "    model_list: 1-D array of scikit models to train with .fit()\n",
        "    X_tr: 2-D array of training set inputs\n",
        "    y_tr: 1-D array of training set labels\n",
        "    X_tr: 2-D array of dev set inputs\n",
        "    y_tr: 1-D array of dev set labels\n",
        "\n",
        "  Returns: Tuple() of:\n",
        "    dev_metrics_list: List of tuples for dev set metrics. Same order as model_list\n",
        "    train_metrics_list: List of tuples for training set metrics. Same order as model_list\n",
        "    best_mse_index: int model_list index of lowest dev set MSE model\n",
        "  \"\"\"\n",
        "  \n",
        "  #############################\n",
        "  #### YOUR CODE GOES HERE ####\n",
        "\n",
        "  train_metrics_list = []\n",
        "  dev_metrics_list = []\n",
        "  best_mse_index = 0\n",
        "\n",
        "  for model in model_list:\n",
        "    model.fit(X_tr, y_tr)\n",
        "    pred_y_train = model.predict(X_tr)\n",
        "    train_metrics_list.append(compute_eval(y_train, pred_y_train))\n",
        "\n",
        "    model.fit(X_dev, y_dev)\n",
        "    pred_y_dev = model.predict(X_dev)\n",
        "    dev_metrics_list.append(compute_eval(y_dev, pred_y_dev))\n",
        "  \n",
        "  best_mse_index = dev_metrics_list.index(min(dev_metrics_list, key = lambda t:t[0]))\n",
        "  return (dev_metrics_list, train_metrics_list, best_mse_index)\n",
        "\n",
        "  ############################# "
      ],
      "execution_count": 109,
      "outputs": []
    },
    {
      "cell_type": "markdown",
      "source": [
        "#### **Extension: Try advanced nonlinear algorithms**"
      ],
      "metadata": {
        "id": "2xS7fB7v1am7"
      }
    },
    {
      "cell_type": "markdown",
      "source": [
        "Nearest neighbors is an intuitive ML algorithm since predictions are based on values from the training set near a query point. You are welcome to experiment with other nonlinear regression modeling approaches to improve performance. \n",
        "\n",
        "Below are some additional modeling approaches that you can try, but you might need to understand more about how the models work to achieve good results. "
      ],
      "metadata": {
        "id": "hUnkWiHl1o1o"
      }
    },
    {
      "cell_type": "code",
      "source": [
        "#############################\n",
        "#### **OPTIONAL** YOUR CODE GOES HERE ####\n",
        "\n",
        "#############################\n",
        "\n",
        "# Random forest\n",
        "# Try adjusting n_estimators and max_leaf_nodes\n",
        "from sklearn.ensemble import RandomForestRegressor\n",
        "rand_forest_reg = RandomForestRegressor(n_estimators=30, max_leaf_nodes=10)\n",
        "\n",
        "# Train the RandomForestRegressor model\n",
        "rand_forest_reg.fit(X_train, y_train)\n",
        "pred_y_train = rand_forest_reg.predict(X_train)\n",
        "\n",
        "rand_forest_reg.fit(X_dev, y_dev)\n",
        "pred_y_dev = rand_forest_reg.predict(X_dev)\n",
        "\n",
        "# Report both the training and development set eval\n",
        "print(\"Computed error for training set - RandomForestRegressor : MSE: %.2f  MAE: %.2f  MPE: %.2f \" \n",
        "      % compute_eval(y_train, pred_y_train))\n",
        "\n",
        "print(\"Computed error for dev set - RandomForestRegressor : MSE: %.2f  MAE: %.2f  MPE: %.2f \" \n",
        "      % compute_eval(y_dev, pred_y_dev))\n",
        "\n",
        "# Gradient boosting regressor\n",
        "# Try adjusting n_estimators and max_leaf_nodes\n",
        "from sklearn.ensemble import GradientBoostingRegressor\n",
        "grad_boost_reg = GradientBoostingRegressor(n_estimators=30, max_leaf_nodes=10)\n",
        "\n",
        "# Train the RandomForestRegressor model\n",
        "grad_boost_reg.fit(X_train, y_train)\n",
        "pred_y_train = grad_boost_reg.predict(X_train)\n",
        "\n",
        "grad_boost_reg.fit(X_dev, y_dev)\n",
        "pred_y_dev = grad_boost_reg.predict(X_dev)\n",
        "\n",
        "# Report both the training and development set eval\n",
        "print(\"Computed error for training set - GradientBoostingRegressor : MSE: %.2f  MAE: %.2f  MPE: %.2f \" \n",
        "      % compute_eval(y_train, pred_y_train))\n",
        "\n",
        "print(\"Computed error for dev set - GradientBoostingRegressor : MSE: %.2f  MAE: %.2f  MPE: %.2f \" \n",
        "      % compute_eval(y_dev, pred_y_dev))\n",
        "\n",
        "# Multi-layer perceptron (Simple neural network)\n",
        "# Try adjusting hidden_layer_sizes\n",
        "from sklearn.neural_network import MLPRegressor\n",
        "mlp_reg = MLPRegressor(hidden_layer_sizes=(1000, ))\n",
        "\n",
        "# Train the RandomForestRegressor model\n",
        "mlp_reg.fit(X_train, y_train)\n",
        "pred_y_train = mlp_reg.predict(X_train)\n",
        "\n",
        "mlp_reg.fit(X_dev, y_dev)\n",
        "pred_y_dev = mlp_reg.predict(X_dev)\n",
        "\n",
        "# Report both the training and development set eval\n",
        "print(\"Computed error for training set - MLPRegressor : MSE: %.2f  MAE: %.2f  MPE: %.2f \" \n",
        "      % compute_eval(y_train, pred_y_train))\n",
        "\n",
        "print(\"Computed error for dev set - MLPRegressor : MSE: %.2f  MAE: %.2f  MPE: %.2f \" \n",
        "      % compute_eval(y_dev, pred_y_dev))\n",
        "\n"
      ],
      "metadata": {
        "id": "riQOChK11ZPu",
        "colab": {
          "base_uri": "https://localhost:8080/"
        },
        "outputId": "3d33b6fc-d111-4720-92db-f6045784865a"
      },
      "execution_count": 110,
      "outputs": [
        {
          "output_type": "stream",
          "name": "stdout",
          "text": [
            "Computed error for training set - RandomForestRegressor : MSE: 0.13  MAE: 0.27  MPE: 2.01 \n",
            "Computed error for dev set - RandomForestRegressor : MSE: 0.07  MAE: 0.21  MPE: 4.71 \n",
            "Computed error for training set - GradientBoostingRegressor : MSE: 0.07  MAE: 0.21  MPE: 1.20 \n",
            "Computed error for dev set - GradientBoostingRegressor : MSE: 0.04  MAE: 0.16  MPE: 3.58 \n"
          ]
        },
        {
          "output_type": "stream",
          "name": "stderr",
          "text": [
            "/usr/local/lib/python3.7/dist-packages/sklearn/neural_network/_multilayer_perceptron.py:641: ConvergenceWarning: Stochastic Optimizer: Maximum iterations (200) reached and the optimization hasn't converged yet.\n",
            "  intercept_grads,\n"
          ]
        },
        {
          "output_type": "stream",
          "name": "stdout",
          "text": [
            "Computed error for training set - MLPRegressor : MSE: 0.02  MAE: 0.10  MPE: 0.59 \n",
            "Computed error for dev set - MLPRegressor : MSE: 0.02  MAE: 0.11  MPE: 4.91 \n"
          ]
        }
      ]
    },
    {
      "cell_type": "markdown",
      "metadata": {
        "id": "2bx6UdyhBRPC"
      },
      "source": [
        "#### **Task: Search over hyperparameters to improve performance**"
      ]
    },
    {
      "cell_type": "markdown",
      "metadata": {
        "id": "c0RmsbgfCepJ"
      },
      "source": [
        "Now let's use the search helper function to try several nonlinear models in a more efficient way. Create a list of nonlinear models and use your `search_models_helper()` function to find the model which produces the lowest dev set MSE. You can explore different hyperparameter settings of the same model (e.g. `n_neighbors`), or different types of nonlinear models. \n",
        "\n",
        "**Extension** For more depth, try defining your list of potential models using a principled hyperparameter search technique. For example, randomly sample from a distribution of possible parameters, _grid search_ over different combinations of hyperparameter settings, or use a hyperparameter optimization algorithm like [hyperopt](http://hyperopt.github.io/hyperopt/).\n",
        "\n"
      ]
    },
    {
      "cell_type": "code",
      "metadata": {
        "id": "XgAbRbsZCfkt",
        "colab": {
          "base_uri": "https://localhost:8080/"
        },
        "outputId": "cb753fff-c6ad-4a83-8878-c6e63bcf1d62"
      },
      "source": [
        "from numpy.random.mtrand import beta\n",
        "model_list = []\n",
        "#############################\n",
        "#### YOUR CODE GOES HERE ####\n",
        "\n",
        "# Create model list by trying different n_neighbors settings\n",
        "regr_kn_2 = KNeighborsRegressor(n_neighbors=2)\n",
        "regr_kn_4 = KNeighborsRegressor(n_neighbors=4)\n",
        "regr_kn_6 = KNeighborsRegressor(n_neighbors=6)\n",
        "\n",
        "model_list.append(regr_kn_2)\n",
        "model_list.append(regr_kn_4)\n",
        "model_list.append(regr_kn_6)\n",
        "\n",
        "(dev_metrics_list, train_metrics_list, best_mse_index) = search_models_helper(model_list, X_train, y_train, X_dev, y_dev)\n",
        "print(\"Best Model %s with MSE val %.2f\" % (model_list[best_mse_index], dev_metrics_list[best_mse_index][0]))\n",
        "\n",
        "############################# "
      ],
      "execution_count": 121,
      "outputs": [
        {
          "output_type": "stream",
          "name": "stdout",
          "text": [
            "Best Model KNeighborsRegressor(n_neighbors=2) with MSE val 0.01\n"
          ]
        }
      ]
    },
    {
      "cell_type": "markdown",
      "source": [
        "**Question**:\n",
        "\n",
        "Report the lowest dev MSE you found and describe the model settings which produced it.\n",
        "\n",
        "Lowest dev MSE is 0.01 for the model KNeighborsRegressor with n_neighbors = 2\n",
        "\n",
        "Describe how you chose the list of models to try. \n",
        "\n",
        "I explored different hyperparameter settings of the same model by trying out different n_neighbors"
      ],
      "metadata": {
        "id": "yWhZuXQh8LLO"
      }
    },
    {
      "cell_type": "markdown",
      "source": [
        "===== (Write your answer here) ======"
      ],
      "metadata": {
        "id": "dD9xgOBo8ef2"
      }
    },
    {
      "cell_type": "markdown",
      "metadata": {
        "id": "8v2IPM0OMuA9"
      },
      "source": [
        "Next, create a plot to show the comparative MSE performance for the models you tried. Choose your best model, ensure you fit it to the training set, and store it in `regr_nl_best`. \n",
        "\n",
        "We will revisit our current ML development hypothesis and diagnostic questions using the model you built."
      ]
    },
    {
      "cell_type": "code",
      "source": [
        "regr_nl_best = None\n",
        "#############################\n",
        "#### YOUR CODE GOES HERE ####\n",
        "model_str_list = [\"regr_kn_2\", \"regr_kn_4\", \"regr_kn_6\"]\n",
        "\n",
        "mse_val_list = []\n",
        "for metrics_tuple in dev_metrics_list:\n",
        "  mse_val_list.append(metrics_tuple[0])\n",
        "\n",
        "plt.figure(figsize=(8, 8))\n",
        "plt.scatter(model_str_list, mse_val_list)\n",
        "plt.xlabel('Model', fontsize=18)\n",
        "plt.ylabel('MSE', fontsize=18)\n",
        "plt.show()\n",
        "\n",
        "regr_nl_best = KNeighborsRegressor(n_neighbors=2)\n",
        "regr_nl_best.fit(X_train, y_train)\n",
        "\n",
        "#############################"
      ],
      "metadata": {
        "id": "FknfxBh6d-FI",
        "colab": {
          "base_uri": "https://localhost:8080/",
          "height": 523
        },
        "outputId": "53eb56f3-61b5-4be0-dc70-78e25e8e8bc4"
      },
      "execution_count": 112,
      "outputs": [
        {
          "output_type": "display_data",
          "data": {
            "text/plain": [
              "<Figure size 576x576 with 1 Axes>"
            ],
            "image/png": "[encoded data removed]"
          },
          "metadata": {}
        },
        {
          "output_type": "execute_result",
          "data": {
            "text/plain": [
              "KNeighborsRegressor(n_neighbors=2)"
            ]
          },
          "metadata": {},
          "execution_count": 112
        }
      ]
    },
    {
      "cell_type": "markdown",
      "metadata": {
        "id": "FKdU1QF6NxqG"
      },
      "source": [
        "## Diagnose next steps after nonlinear modeling improvements"
      ]
    },
    {
      "cell_type": "markdown",
      "metadata": {
        "id": "vAVMY_CmOu-2"
      },
      "source": [
        "After iterating on nonlinear modeling improvements, let's compare results of the best nonlinear model you found with our initial linear model from earlier."
      ]
    },
    {
      "cell_type": "code",
      "metadata": {
        "id": "Pu53zXEXOjji",
        "colab": {
          "base_uri": "https://localhost:8080/"
        },
        "outputId": "2548ceff-a19c-439f-8ade-4b554c8e1c12"
      },
      "source": [
        "print(\"Linear model:: \")\n",
        "print(\"Training set error: MSE: %.2f  MAE: %.2f  MPE: %.2f \" \n",
        "      % compute_eval(regr_lin.predict(X_train), y_train))\n",
        "\n",
        "print(\"Dev set error: MSE: %.2f  MAE: %.2f  MPE: %.2f \" \n",
        "      % compute_eval(regr_lin.predict(X_dev), y_dev))\n",
        "\n",
        "print(\"Best nonlinear model:: \")\n",
        "print(\"Training set error: MSE: %.2f  MAE: %.2f  MPE: %.2f \" \n",
        "      % compute_eval(regr_nl_best.predict(X_train), y_train))\n",
        "\n",
        "print(\"Dev set error: MSE: %.2f  MAE: %.2f  MPE: %.2f \" \n",
        "      % compute_eval(regr_nl_best.predict(X_dev), y_dev))\n"
      ],
      "execution_count": 113,
      "outputs": [
        {
          "output_type": "stream",
          "name": "stdout",
          "text": [
            "Linear model:: \n",
            "Training set error: MSE: 0.32  MAE: 0.39  MPE: 24.86 \n",
            "Dev set error: MSE: 0.19  MAE: 0.33  MPE: 1.38 \n",
            "Best nonlinear model:: \n",
            "Training set error: MSE: 0.01  MAE: 0.06  MPE: 0.40 \n",
            "Dev set error: MSE: 0.32  MAE: 0.39  MPE: 5.62 \n"
          ]
        }
      ]
    },
    {
      "cell_type": "markdown",
      "metadata": {
        "id": "oKAZKDMRlbOK"
      },
      "source": [
        "Recall our hypothesis _a more expressive model will better fit the training set, and this improved performance will generalize to the dev set._ Were you able to find a nonlinear model which outperforms our linear baseline?\n",
        "\n",
        "*In terms of the training set, the non-linear model outperformed the linear model, but it did not generaize as well to the dev set as the linear model.*\n",
        "\n",
        "Some additional plotting and diagnostics can help us compare performance between models. \n",
        "First we can check the _predicted_ vs _actual_ values for $y$ for both models. \n",
        "\n",
        "This scatter plot shows us where model predictions disagree with ground truth, perfect predictions are along the diagonal line $y=x$. This plot helps us check for patterns of errors. We also plot the two models' predictions against each other to look for agreement."
      ]
    },
    {
      "cell_type": "code",
      "source": [
        "plt.plot(y_dev, regr_lin.predict(X_dev), 'bo', alpha=0.2, label='linear')\n",
        "plt.plot(y_dev, regr_nl_best.predict(X_dev), 'ro', alpha=0.2, label='nonlinear')\n",
        "plt.plot(y_dev, y_dev, 'k-', label='correct')\n",
        "plt.ylim(np.min(y_dev), np.max(y_dev))\n",
        "plt.xlabel(\"Actual \")\n",
        "plt.ylabel(\"Predicted\")\n",
        "plt.title('Original feature MSE')\n",
        "plt.legend()\n",
        "plt.show()"
      ],
      "metadata": {
        "id": "SrT0CWhZR83s",
        "colab": {
          "base_uri": "https://localhost:8080/",
          "height": 354
        },
        "outputId": "1e59d188-a50e-494c-ac30-37f1823823c4"
      },
      "execution_count": 114,
      "outputs": [
        {
          "output_type": "display_data",
          "data": {
            "text/plain": [
              "<Figure size 720x360 with 1 Axes>"
            ],
            "image/png": "[encoded data removed]"
          },
          "metadata": {}
        }
      ]
    },
    {
      "cell_type": "markdown",
      "source": [
        "To more directly understand where predictions differ, we can construct a similar plot using the linear model's predictions as $x$ axis, and your nonlinear model's predictions as $y$ axis. This plot helps us investigate the question, _\"How do predictions from the nonlinear model deviate from linear model predictions?_\" \n",
        "\n",
        "* Note this does not say whether either model is more correct, just where the predictions differ. \n",
        "* The line $y=x$ in this plot is where both models predict the same value for a dev set example.\n",
        "* Points above the line $y=x$ indicate the nonlinear model predicting a larger value compared with the linear model. \n",
        "* This diagnostic can help us check for unusual bias or outliers in a more complex model. This helps guide decisions about which model to use in a production system.\n"
      ],
      "metadata": {
        "id": "uC628oO5bGUE"
      }
    },
    {
      "cell_type": "code",
      "source": [
        "plt.plot(regr_lin.predict(X_dev), regr_nl_best.predict(X_dev), 'bo', alpha=0.2)\n",
        "\n",
        "plt.plot(regr_lin.predict(X_dev), regr_lin.predict(X_dev), 'k-', label='$y=x$')\n",
        "plt.ylim(np.min(y_dev), np.max(y_dev))\n",
        "plt.xlabel(\"Linear\")\n",
        "plt.ylabel(\"Nonlinear\")\n",
        "plt.title('Comparing predicted values $y$')\n",
        "plt.legend()\n",
        "plt.show()"
      ],
      "metadata": {
        "id": "uJv3tNfsbvFC",
        "colab": {
          "base_uri": "https://localhost:8080/",
          "height": 356
        },
        "outputId": "3e888ef1-2229-4a10-8935-d587c691e47e"
      },
      "execution_count": 115,
      "outputs": [
        {
          "output_type": "display_data",
          "data": {
            "text/plain": [
              "<Figure size 720x360 with 1 Axes>"
            ],
            "image/png": "[encoded data removed]"
          },
          "metadata": {}
        }
      ]
    },
    {
      "cell_type": "markdown",
      "metadata": {
        "id": "wy2O4Kpgv1Nx"
      },
      "source": [
        "**Question**:\n",
        "\n",
        "Using error metrics for both models along with the plots we've just created, which model would you prefer when predicting future revenue of accounts? \n",
        "\n",
        "Think about what types of decisions this model will help make, and how model errors might impact the eventual marketing/sales team actions influenced by this model. Some considerations:\n",
        "\n",
        "* We prefer being more accurate for larger accounts, as this is more valuable for the company overall\n",
        "* Does either model exhibit a pattern of errors with consistent bias of over/under-estimating?\n",
        "* How do models perform on outlier values where the true value is at the extreme large/small ranges for $y$?\n"
      ]
    },
    {
      "cell_type": "markdown",
      "source": [
        "(Write your answer here)\n",
        "\n",
        "Which model would you prefer when predicting future revenue of accounts?\n",
        "I would use the non-linear model because it has an MSE val on the dev set that can be improved through further hyper-parameter optimization in order to have better/more accurate predictions on new data. \n",
        "\n",
        "Does either model exhibit a pattern of errors with consistent bias of over/under-estimating?\n",
        "The linear model is underfitting - has poor performance on training and poor generalization on the dev set, whereas the non-linear model is overfitting - has good performance on the training but poor generalization to the dev set.\n",
        "\n",
        "How do models perform on outlier values where the true value is at the extreme large/small ranges for  𝑦 ?\n",
        "\n",
        "The non-linear model has more outliers in terms of predictions than the linear model whose values are closer to the y=x straight line/correct values.\n",
        "\n",
        "\n"
      ],
      "metadata": {
        "id": "rPh_RffxnbDR"
      }
    },
    {
      "cell_type": "markdown",
      "metadata": {
        "id": "38UWjzsxkWBF"
      },
      "source": [
        "## Improving a linear model with derived features"
      ]
    },
    {
      "cell_type": "markdown",
      "metadata": {
        "id": "9K8QVYLkt4nn"
      },
      "source": [
        "We hypothesized our linear model is high bias, low variance and under-fitting the training data. We tried different prediction algorithms (nearest neighbors, decision trees, etc.) to build nonlinear models with lower bias. We might also improve a high bias model by introducing _new input features_. \n",
        "\n",
        "We create a new input feature vector $\\tilde{x} = [x, x_{new}]$ which includes our original features $x$ as well as new features $x_{new}$. Adding new input features often happens as we add new information to improve predictions when _under-fitting_.\n",
        "\n",
        "Rather than expanding $x$ with new information about the task, for now we will make our linear model more expressive by expanding $x$ with _derived features_.\n",
        "Our new input features will be nonlinear transformations of the existing $x$. Scikit provides a simple _transform_ mechanism which produces new input features $\\tilde{x}$ for all examples."
      ]
    },
    {
      "cell_type": "code",
      "metadata": {
        "id": "NV7A9Qglh2CN"
      },
      "source": [
        "# perform a polynomial features transform of the dataset\n",
        "trans = PolynomialFeatures(degree=3)\n",
        "X_train_trans = trans.fit_transform(X_train)\n",
        "X_dev_trans = trans.fit_transform(X_dev)"
      ],
      "execution_count": 116,
      "outputs": []
    },
    {
      "cell_type": "markdown",
      "metadata": {
        "id": "OjDlvnNcCD-A"
      },
      "source": [
        "A degree 2 polynomial transform means if we had original input features $x=[a, b]$, the derived input features are $\\tilde{x} = [1, a, b, a^2, ab, b^2]$. We can extend this to any polynomial order >= 2, but this can quickly grow the number of features too large for easy use. \n",
        "\n",
        "\n",
        "Recall a linear model takes the form $y = \\theta_1 x_1 + \\theta_2 x_2 ...$ so applying a linear model to our derived features allows us to model some nonlinear variation in our original input data because we now have a _linear_ model applied to _nonlinear_ derived features of the data."
      ]
    },
    {
      "cell_type": "markdown",
      "metadata": {
        "id": "VgVpvOiIbJ8X"
      },
      "source": [
        "#### **Task: Evaluate and compare a linear model with derived features**"
      ]
    },
    {
      "cell_type": "markdown",
      "metadata": {
        "id": "Tvg62uydhIn6"
      },
      "source": [
        "Fit and evaluate a linear regression model on the transformed training and test sets just created."
      ]
    },
    {
      "cell_type": "code",
      "metadata": {
        "id": "huxTG2TULa4B",
        "colab": {
          "base_uri": "https://localhost:8080/"
        },
        "outputId": "a7e00687-f61f-44ea-d1bd-43d8c904a860"
      },
      "source": [
        "# fit an evaluate a linear model on the transformed features\n",
        "regr_poly_lin = linear_model.LinearRegression()\n",
        "\n",
        "#############################\n",
        "  #### YOUR CODE GOES HERE ####\n",
        "regr_poly_lin.fit(X_train_trans, y_train)\n",
        "pred_y_train = regr_poly_lin.predict(X_train_trans)\n",
        "\n",
        "\n",
        "regr_poly_lin.fit(X_dev_trans, y_dev)\n",
        "pred_y_dev = regr_poly_lin.predict(X_dev_trans)\n",
        "# Report the training and test set eval\n",
        "\n",
        "\n",
        "############################# \n",
        "\n",
        "# Report both the training and development set eval\n",
        "print(\"Computed error for training set: MSE: %.2f  MAE: %.2f  MPE: %.2f \" \n",
        "      % compute_eval(y_train, pred_y_train))\n",
        "\n",
        "print(\"Computed error for dev set: MSE: %.2f  MAE: %.2f  MPE: %.2f \" \n",
        "      % compute_eval(y_dev, pred_y_dev))\n",
        "############################# "
      ],
      "execution_count": 117,
      "outputs": [
        {
          "output_type": "stream",
          "name": "stdout",
          "text": [
            "Computed error for training set: MSE: 0.02  MAE: 0.09  MPE: 0.63 \n",
            "Computed error for dev set: MSE: 0.00  MAE: 0.00  MPE: 0.00 \n"
          ]
        }
      ]
    },
    {
      "cell_type": "markdown",
      "metadata": {
        "id": "UUxv_E-ZkIYp"
      },
      "source": [
        "The expanded features model has _lower bias_ and _higher variance_ compared to the model with original features. We conclude this because the new model has more free parameters ($\\theta$), and can model some nonlinear relations in the data via the derived features. \n",
        "\n",
        "Some observations on linear model performance on the expanded feature set:\n",
        "* Training set error: Expanded feature model achieves almost 0 error\n",
        "* Dev set error: Derived feature model achieves lower dev error than original features model\n",
        "* With 0 training error, we should check for _overfitting_ in our derived feature model. Overfitting happens when fitting variations in the training set harms dev set performance by the model finding coincidences in the training set. "
      ]
    },
    {
      "cell_type": "markdown",
      "metadata": {
        "id": "gdl-YWsmp3DG"
      },
      "source": [
        "## Regularization"
      ]
    },
    {
      "cell_type": "markdown",
      "metadata": {
        "id": "-ry1P25MTef_"
      },
      "source": [
        "The linear model using derived features is fitting the training set perfectly and could be over-fitting. _Regularization_ introduces a penalty for model complexity when fitting/training the model. By introducing such a penalty, regularization provides a way to trade off model complexity (variance) with how well a model generalizes to perform well on dev set examples. \n",
        "\n",
        "In general, regularization is typically a term we add to the loss function so that our final model will be influenced by the regularization penalty and our original objective/loss function. We now think of our overall loss function $\\mathcal{L}_{\\mathcal{D}}^{tot}$ as the sum of our original loss function and a new loss term $\\mathcal{L}_{\\mathcal{D}}^{reg}$,\n",
        "\n",
        "$\\mathcal{L}_{\\mathcal{D}}^{tot} (f_\\theta(x)) = \n",
        "\\mathcal{L}_{\\mathcal{D}}^{fit} (f_\\theta(x))\n",
        "+ \\alpha \\mathcal{L}_{\\mathcal{D}}^{reg} (\\theta)$.\n",
        "\n",
        "The parameter $\\alpha$ allows us to adjust the trade-off between the two terms. Directly controlling this tradeoff allows us to penalize the complexity of an over-fitting model and hopefully improve dev set performance by preventing the model from fitting unhelpful relationships in the training set.\n",
        "\n",
        "An often used, simple regularization approach is sum of squared values of the model parameters $\\theta$,\n",
        "\n",
        "$\\mathcal{L}_{\\mathcal{D}}^{reg} (\\theta) = \\alpha \\sum_j \\theta_j^2$\n",
        "\n",
        "This sum of squares regularization is also called $L_2$ since it corresponds to the $L_2$ norm of the vector $\\theta$.\n",
        "\n",
        "Finally, let's see our full linear regression loss with $L_2$ regularization,\n",
        "\n",
        "$\\mathcal{L}_{\\mathcal{D}} (f_\\theta(x)) = \\sum_{i \\in \\mathcal{D}} (\\hat{y}^{(i)} - y^{(i)})^2 +\n",
        "\\alpha \\sum_j \\theta_j^2$\n",
        "\n",
        "This regression and regularization combination is well-studied and widely used. In fact, it has a special name, ridge regression.\n"
      ]
    },
    {
      "cell_type": "markdown",
      "metadata": {
        "id": "Hdz5YaAQc8Ye"
      },
      "source": [
        "### **Task: Linear regression with regularization**"
      ]
    },
    {
      "cell_type": "markdown",
      "metadata": {
        "id": "ZpfbNgW_dC7F"
      },
      "source": [
        "Using the `Ridge` model and your `search_models_helper()` function, try several settings for the regularization parameter $\\alpha$. Report training and dev set metrics for the best model you find for *both* the expanded features and original datasets. \n",
        "\n",
        "Fit and store the best model for each feature set.\n",
        "\n",
        "Hint: use yourto find a good setting for $\\alpha$. Report the training and dev set metrics for y"
      ]
    },
    {
      "cell_type": "code",
      "metadata": {
        "id": "DI97V4iEhYNW",
        "colab": {
          "base_uri": "https://localhost:8080/"
        },
        "outputId": "031d42f9-89c8-4a26-e15d-80160c00bcf5"
      },
      "source": [
        "from sklearn.linear_model import Ridge\n",
        "# try at least these values but you can add more\n",
        "alpha_list = [0, 1, 10, 100, 1000, 10000]\n",
        "## store your lowest MSE model for each feature set in the variable names below\n",
        "regr_ridge_orig = None\n",
        "regr_ridge_poly = None\n",
        "model_list = []\n",
        "\n",
        "#############################\n",
        "#### YOUR CODE GOES HERE ####\n",
        "\n",
        "# Create model list by trying different alpha settings\n",
        "for alpha in alpha_list:\n",
        "  model_list.append(Ridge(alpha=alpha))\n",
        "\n",
        "## original feature set\n",
        "\n",
        "# fit model with best settings\n",
        "\n",
        "dev_metrics_list, train_metrics_list, best_mse_index = search_models_helper(model_list, X_train, y_train, X_dev, y_dev)\n",
        "regr_ridge_orig = model_list[best_mse_index]\n",
        "print(\"Best Model Original Train Set %s with MSE val %.2f\" % (regr_ridge_orig, train_metrics_list[best_mse_index][0]))\n",
        "print(\"Best Model Original Dev Set %s with MSE val %.2f\" % (regr_ridge_orig, dev_metrics_list[best_mse_index][0]))\n",
        "for i in range(len(alpha_list)):\n",
        "  print(\"Ridge Original Metrics Train Set %s for alpha: %i\" % (train_metrics_list[i], alpha_list[i]))\n",
        "  print(\"Ridge Original Metrics Dev Set %s for alpha: %i\" % (dev_metrics_list[i], alpha_list[i]))\n",
        "\n",
        "## transformed feature set\n",
        "\n",
        "# fit model with best settings\n",
        "\n",
        "dev_metrics_list, train_metrics_list, best_mse_index = search_models_helper(model_list, X_train_trans, y_train, X_dev_trans, y_dev)\n",
        "regr_ridge_poly = model_list[best_mse_index]\n",
        "print(\"Best Model Transformed Train Set %s with MSE val %.2f\" % (regr_ridge_poly, train_metrics_list[best_mse_index][0]))\n",
        "print(\"Best Model Transformed Dev Set %s with MSE val %.2f\" % (regr_ridge_poly, dev_metrics_list[best_mse_index][0]))\n",
        "for i in range(len(alpha_list)):\n",
        "  print(\"Ridge Transformed Metrics Train Set %s for alpha: %i\" % (train_metrics_list[i], alpha_list[i]))\n",
        "  print(\"Ridge Transformed Metrics Dev Set %s for alpha: %i\" % (dev_metrics_list[i], alpha_list[i]))\n",
        "\n",
        "############################# "
      ],
      "execution_count": 122,
      "outputs": [
        {
          "output_type": "stream",
          "name": "stdout",
          "text": [
            "Best Model Original Train Set Ridge(alpha=0) with MSE val 0.25\n",
            "Best Model Original Dev Set Ridge(alpha=0) with MSE val 0.19\n",
            "Ridge Original Metrics Train Set (0.2453863975331144, 0.3604477731232749, 2.0104906769091735) for alpha: 0\n",
            "Ridge Original Metrics Dev Set (0.1933268988039723, 0.3345418921876317, 3.2699964990560613) for alpha: 0\n",
            "Ridge Original Metrics Train Set (0.24538873958305776, 0.36023793998760223, 2.0077555547576647) for alpha: 1\n",
            "Ridge Original Metrics Dev Set (0.1933713917498067, 0.3348756206410528, 3.444695647842483) for alpha: 1\n",
            "Ridge Original Metrics Train Set (0.24558487372707768, 0.35862235428321215, 1.9849548910901815) for alpha: 10\n",
            "Ridge Original Metrics Dev Set (0.19593097539463267, 0.339763830472825, 4.411003854482659) for alpha: 10\n",
            "Ridge Original Metrics Train Set (0.2532751137150015, 0.3546278717653647, 1.8615501420668634) for alpha: 100\n",
            "Ridge Original Metrics Dev Set (0.25431006940142886, 0.37988467263238124, 5.543655048889161) for alpha: 100\n",
            "Ridge Original Metrics Train Set (0.35488435373186583, 0.41047768532898193, 1.8462544871372595) for alpha: 1000\n",
            "Ridge Original Metrics Dev Set (0.6334361074972569, 0.583665069531988, 4.835164925375307) for alpha: 1000\n",
            "Ridge Original Metrics Train Set (0.7182256225302065, 0.60638797893064, 1.495577359053394) for alpha: 10000\n",
            "Ridge Original Metrics Dev Set (1.0489241730740315, 0.7391048931120799, 4.356883880342585) for alpha: 10000\n",
            "Best Model Transformed Train Set Ridge(alpha=0) with MSE val 0.02\n",
            "Best Model Transformed Dev Set Ridge(alpha=0) with MSE val 0.00\n",
            "Ridge Transformed Metrics Train Set (0.015098652140275158, 0.09061124851901654, 0.6247305292505249) for alpha: 0\n",
            "Ridge Transformed Metrics Dev Set (4.324163955683325e-24, 1.2979643922161888e-12, 2.349643551397711e-11) for alpha: 0\n",
            "Ridge Transformed Metrics Train Set (0.02137174369724832, 0.10427023913786058, 0.7446148296514732) for alpha: 1\n",
            "Ridge Transformed Metrics Dev Set (0.0026701320522176182, 0.0366771770737875, 3.2518861963334893) for alpha: 1\n",
            "Ridge Transformed Metrics Train Set (0.03183256284561239, 0.12711650516916068, 0.8319033069984922) for alpha: 10\n",
            "Ridge Transformed Metrics Dev Set (0.014875432056004842, 0.08874490537723478, 3.579793994910846) for alpha: 10\n",
            "Ridge Transformed Metrics Train Set (0.05175952609931959, 0.16291976943300107, 0.9203301375887736) for alpha: 100\n",
            "Ridge Transformed Metrics Dev Set (0.04622534646786803, 0.16541537612810742, 3.5218968600706844) for alpha: 100\n",
            "Ridge Transformed Metrics Train Set (0.08902368415399559, 0.212648865732338, 1.0397928030007475) for alpha: 1000\n",
            "Ridge Transformed Metrics Dev Set (0.12576398172954634, 0.27150213820695046, 1.4599390691064662) for alpha: 1000\n",
            "Ridge Transformed Metrics Train Set (0.1996162007092938, 0.31903082797774207, 1.235317371380375) for alpha: 10000\n",
            "Ridge Transformed Metrics Dev Set (0.32191501778363774, 0.42798081137859545, 4.486185188216152) for alpha: 10000\n"
          ]
        },
        {
          "output_type": "stream",
          "name": "stderr",
          "text": [
            "/usr/local/lib/python3.7/dist-packages/sklearn/linear_model/_ridge.py:197: UserWarning: Singular matrix in solving dual problem. Using least-squares solution instead.\n",
            "  \"Singular matrix in solving dual problem. Using \"\n"
          ]
        }
      ]
    },
    {
      "cell_type": "markdown",
      "metadata": {
        "id": "w-KX_fGgeCA1"
      },
      "source": [
        "Now create a plot showing MSE values (on the y-axis) as a function of $\\alpha$ for both feature sets."
      ]
    },
    {
      "cell_type": "code",
      "source": [
        "# Tips: - You can use log scale for alphas axis using [axis].set_xscale('log')\n",
        "#      - Ensure 0 is shown in your MSE values axis using [axis].set_ylim(bottom=0)\n",
        "\n",
        "#############################\n",
        "#### YOUR CODE GOES HERE ####\n",
        "\n",
        "mse_val_list = []\n",
        "for metrics_tuple in dev_metrics_list:\n",
        "  mse_val_list.append(metrics_tuple[0])\n",
        "\n",
        "fig, axs = plt.subplots(figsize=(8,8))\n",
        "# axs.set_xscale('log')\n",
        "axs.set_ylim(bottom=0)\n",
        "axs.scatter(alpha_list, mse_val_list)\n",
        "plt.xlabel('alpha', fontsize=18)\n",
        "plt.ylabel('MSE', fontsize=18)\n",
        "plt.show()\n",
        "\n",
        "#############################\n"
      ],
      "metadata": {
        "id": "UbzttlTLkq3N",
        "colab": {
          "base_uri": "https://localhost:8080/",
          "height": 509
        },
        "outputId": "150a2527-98ea-4615-90f4-b71b6d96a6a9"
      },
      "execution_count": 119,
      "outputs": [
        {
          "output_type": "display_data",
          "data": {
            "text/plain": [
              "<Figure size 576x576 with 1 Axes>"
            ],
            "image/png": "[encoded data removed]"
          },
          "metadata": {}
        }
      ]
    },
    {
      "cell_type": "markdown",
      "source": [
        "**Question**\n",
        "\n",
        "How did performance on training and dev sets change as $\\alpha$ changed? What differences did you observe in the effect of regularization on the original vs expanded feature models? "
      ],
      "metadata": {
        "id": "KzCcH_3kPcnK"
      }
    },
    {
      "cell_type": "markdown",
      "source": [
        "(Your answer here)\n",
        "\n",
        "The MSE value of the original training and dev sets increase with larger intervals as the 𝛼 values, whereas that of the transformed training and dev sets increase but with much lower differences between alpha values. \n",
        "\n",
        "Regularization leads to a lower performance with the best model being that whose alpha value is 0 as this leads to a lower MSE value."
      ],
      "metadata": {
        "id": "p6NLDpJ2PhO0"
      }
    },
    {
      "cell_type": "markdown",
      "metadata": {
        "id": "IM0pHSbtGHuj"
      },
      "source": [
        "# Conclusion and next steps\n",
        "\n",
        "Congratulations on completing the project! You built nonlinear regression models for per-customer revenue prediction. We can now deliver this model along with predictions to the customer success and sales teams to allow them to try and prioritize customer interactions based on model predictions. \n",
        "\n",
        "In this project, we also introduced several regression techniques, error metrics, hypothesis-driven development, and regularization. We will continue to use these core conepts throughout the course. \n"
      ]
    }
  ]
}